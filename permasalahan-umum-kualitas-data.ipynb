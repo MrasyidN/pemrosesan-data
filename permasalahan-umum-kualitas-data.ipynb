{
 "cells": [
  {
   "cell_type": "markdown",
   "metadata": {},
   "source": [
    "# Permasalahan Umum pada Kualitas Data"
   ]
  },
  {
   "cell_type": "markdown",
   "metadata": {},
   "source": [
    "## Permasalahan Tipe Data"
   ]
  },
  {
   "cell_type": "markdown",
   "metadata": {},
   "source": [
    "### Konversi Tipe Data Object ke String"
   ]
  },
  {
   "cell_type": "code",
   "execution_count": 1,
   "metadata": {},
   "outputs": [
    {
     "name": "stdout",
     "output_type": "stream",
     "text": [
      "<class 'pandas.core.frame.DataFrame'>\n",
      "RangeIndex: 3 entries, 0 to 2\n",
      "Data columns (total 6 columns):\n",
      " #   Column           Non-Null Count  Dtype \n",
      "---  ------           --------------  ----- \n",
      " 0   product_id       3 non-null      int64 \n",
      " 1   product_name     3 non-null      object\n",
      " 2   product_price    3 non-null      object\n",
      " 3   product_sold     3 non-null      object\n",
      " 4   order_date       3 non-null      object\n",
      " 5   delivery_status  3 non-null      int64 \n",
      "dtypes: int64(2), object(4)\n",
      "memory usage: 276.0+ bytes\n",
      "None\n",
      "<class 'pandas.core.frame.DataFrame'>\n",
      "RangeIndex: 3 entries, 0 to 2\n",
      "Data columns (total 6 columns):\n",
      " #   Column           Non-Null Count  Dtype \n",
      "---  ------           --------------  ----- \n",
      " 0   product_id       3 non-null      int64 \n",
      " 1   product_name     3 non-null      string\n",
      " 2   product_price    3 non-null      object\n",
      " 3   product_sold     3 non-null      object\n",
      " 4   order_date       3 non-null      object\n",
      " 5   delivery_status  3 non-null      int64 \n",
      "dtypes: int64(2), object(3), string(1)\n",
      "memory usage: 276.0+ bytes\n",
      "None\n"
     ]
    }
   ],
   "source": [
    "import pandas as pd\n",
    " \n",
    "# Mendefinisikan data penjualan\n",
    "data = {\n",
    "    \"product_id\": [1,2,3],\n",
    "    \"product_name\": [\"Camera DSLR\", \"Lensa Wide EF-S 24mm F2.8\", \"SD Card Xtreme Pro 32GB\"],\n",
    "    \"product_price\": [\"100000\", \"150000\", \"200000\"],\n",
    "    \"product_sold\": [\"100\", \"200\", \"300\"],\n",
    "    \"order_date\": [\"2024-12-25\", \"2024-12-26\", \"2024-12-27\"],\n",
    "    \"delivery_status\": [1,0,1]\n",
    "}\n",
    " \n",
    "# Mengonversi data menjadi DataFrame\n",
    "df = pd.DataFrame(data)\n",
    " \n",
    "# Menampilkan DataFrame\n",
    "print(df.info())\n",
    " \n",
    "# Mengonversi kolom product_name menjadi string.\n",
    "df['product_name'] = df['product_name'].astype('string')\n",
    " \n",
    "# Menampilkan DataFrame\n",
    "print(df.info())"
   ]
  },
  {
   "cell_type": "markdown",
   "metadata": {},
   "source": [
    "### Intermezzo: Metode Indexing dan Slicing DataFrame"
   ]
  },
  {
   "cell_type": "code",
   "execution_count": 2,
   "metadata": {},
   "outputs": [
    {
     "name": "stdout",
     "output_type": "stream",
     "text": [
      "  product_name  product_price\n",
      "0            A             10\n",
      "1            B             20\n",
      "2            C             30\n"
     ]
    }
   ],
   "source": [
    "import pandas as pd\n",
    " \n",
    "# Membuat DataFrame\n",
    "data = {\n",
    "    \"product_name\": [\"A\", \"B\", \"C\"],\n",
    "    \"product_price\": [10, 20, 30]\n",
    "}\n",
    "df = pd.DataFrame(data)\n",
    "print(df)"
   ]
  },
  {
   "cell_type": "code",
   "execution_count": 3,
   "metadata": {},
   "outputs": [
    {
     "name": "stdout",
     "output_type": "stream",
     "text": [
      "0    10\n",
      "1    20\n",
      "2    30\n",
      "Name: product_price, dtype: int64\n"
     ]
    }
   ],
   "source": [
    "df_indexing = df['product_price']\n",
    "print(df_indexing)"
   ]
  },
  {
   "cell_type": "code",
   "execution_count": 4,
   "metadata": {},
   "outputs": [
    {
     "name": "stdout",
     "output_type": "stream",
     "text": [
      "0    10\n",
      "1    20\n",
      "2    30\n",
      "Name: product_price, dtype: int64\n"
     ]
    }
   ],
   "source": [
    "df_slicing = df[0:2]\n",
    "print(df_indexing)"
   ]
  },
  {
   "cell_type": "markdown",
   "metadata": {},
   "source": [
    "## tipe data"
   ]
  },
  {
   "cell_type": "code",
   "execution_count": 5,
   "metadata": {},
   "outputs": [
    {
     "name": "stdout",
     "output_type": "stream",
     "text": [
      "<class 'pandas.core.frame.DataFrame'>\n",
      "RangeIndex: 3 entries, 0 to 2\n",
      "Data columns (total 6 columns):\n",
      " #   Column           Non-Null Count  Dtype \n",
      "---  ------           --------------  ----- \n",
      " 0   product_id       3 non-null      int64 \n",
      " 1   product_name     3 non-null      object\n",
      " 2   product_price    3 non-null      object\n",
      " 3   product_sold     3 non-null      object\n",
      " 4   order_date       3 non-null      object\n",
      " 5   delivery_status  3 non-null      int64 \n",
      "dtypes: int64(2), object(4)\n",
      "memory usage: 276.0+ bytes\n",
      "None\n",
      "<class 'pandas.core.frame.DataFrame'>\n",
      "RangeIndex: 3 entries, 0 to 2\n",
      "Data columns (total 6 columns):\n",
      " #   Column           Non-Null Count  Dtype         \n",
      "---  ------           --------------  -----         \n",
      " 0   product_id       3 non-null      int64         \n",
      " 1   product_name     3 non-null      string        \n",
      " 2   product_price    3 non-null      float64       \n",
      " 3   product_sold     3 non-null      int32         \n",
      " 4   order_date       3 non-null      datetime64[ns]\n",
      " 5   delivery_status  3 non-null      category      \n",
      "dtypes: category(1), datetime64[ns](1), float64(1), int32(1), int64(1), string(1)\n",
      "memory usage: 367.0 bytes\n",
      "None\n",
      "   product_id               product_name  product_price  product_sold  \\\n",
      "0           1                Camera DSLR       100000.0           100   \n",
      "1           2  Lensa Wide EF-S 24mm F2.8       150000.0           200   \n",
      "2           3    SD Card Xtreme Pro 32GB       200000.0           300   \n",
      "\n",
      "  order_date delivery_status  \n",
      "0 2024-12-25               1  \n",
      "1 2024-12-26               0  \n",
      "2 2024-12-27               1  \n"
     ]
    }
   ],
   "source": [
    "import pandas as pd\n",
    " \n",
    "# Mendefinisikan data penjualan\n",
    "data = {\n",
    "    \"product_id\": [1,2,3],\n",
    "    \"product_name\": [\"Camera DSLR\", \"Lensa Wide EF-S 24mm F2.8\", \"SD Card Xtreme Pro 32GB\"],\n",
    "    \"product_price\": [\"100000\", \"150000\", \"200000\"],\n",
    "    \"product_sold\": [\"100\", \"200\", \"300\"],\n",
    "    \"order_date\": [\"20241225\", \"20241226\", \"20241227\"],\n",
    "    \"delivery_status\": [1,0,1]\n",
    "}\n",
    " \n",
    "# Mengonversi data menjadi DataFrame\n",
    "df = pd.DataFrame(data)\n",
    " \n",
    "# Menampilkan DataFrame\n",
    "print(df.info())\n",
    " \n",
    "# Mengubah tipe data kolom.\n",
    "df['product_name'] = df['product_name'].astype('string')  # Mengubah tipe data menjadi string\n",
    "df['product_price'] = df['product_price'].astype('float') # Mengubah tipe data menjadi float\n",
    "df['product_sold'] = df['product_sold'].astype('int') # Mengubah tipe data menjadi integer\n",
    "df['order_date'] = pd.to_datetime(df['order_date']) # Mengubah tipe data menjadi datetime\n",
    "df['delivery_status'] = df['delivery_status'].astype('category') # Mengubah tipe data menjadi category\n",
    " \n",
    "# Menampilkan DataFrame\n",
    "print(df.info())\n",
    "print(df)"
   ]
  },
  {
   "cell_type": "markdown",
   "metadata": {},
   "source": [
    "### Mengonversi Tipe Data ke Float\n"
   ]
  },
  {
   "cell_type": "code",
   "execution_count": 6,
   "metadata": {},
   "outputs": [],
   "source": [
    "df['product_price'] = df['product_price'].astype('float')\n"
   ]
  },
  {
   "cell_type": "markdown",
   "metadata": {},
   "source": [
    "### Mengonversi Tipe Data ke Integer"
   ]
  },
  {
   "cell_type": "code",
   "execution_count": 7,
   "metadata": {},
   "outputs": [],
   "source": [
    "df['product_sold'] = df['product_sold'].astype('int')\n"
   ]
  },
  {
   "cell_type": "markdown",
   "metadata": {},
   "source": [
    "### Mengonversi Tipe Data ke Datetime\n"
   ]
  },
  {
   "cell_type": "code",
   "execution_count": 8,
   "metadata": {},
   "outputs": [],
   "source": [
    "df['order_date'] = pd.to_datetime(df['order_date']) # Mengubah tipe data menjadi datetime\n"
   ]
  },
  {
   "cell_type": "markdown",
   "metadata": {},
   "source": [
    "### Mengonversi Tipe Data ke Kategorikal\n"
   ]
  },
  {
   "cell_type": "code",
   "execution_count": 9,
   "metadata": {},
   "outputs": [],
   "source": [
    "df['delivery_status'] = df['delivery_status'].astype('category')\n"
   ]
  },
  {
   "cell_type": "markdown",
   "metadata": {},
   "source": [
    "## Permasalahan Rentang Data\n"
   ]
  },
  {
   "cell_type": "code",
   "execution_count": null,
   "metadata": {},
   "outputs": [],
   "source": []
  }
 ],
 "metadata": {
  "kernelspec": {
   "display_name": "Python 3",
   "language": "python",
   "name": "python3"
  },
  "language_info": {
   "codemirror_mode": {
    "name": "ipython",
    "version": 3
   },
   "file_extension": ".py",
   "mimetype": "text/x-python",
   "name": "python",
   "nbconvert_exporter": "python",
   "pygments_lexer": "ipython3",
   "version": "3.11.5"
  }
 },
 "nbformat": 4,
 "nbformat_minor": 2
}
